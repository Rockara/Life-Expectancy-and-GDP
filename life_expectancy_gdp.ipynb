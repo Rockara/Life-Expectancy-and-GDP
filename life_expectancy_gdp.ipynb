{
 "cells": [
  {
   "cell_type": "code",
   "execution_count": 1,
   "metadata": {},
   "outputs": [],
   "source": [
    "import pandas as pd\n",
    "import matplotlib.pyplot as plt\n",
    "import seaborn as sns\n",
    "import numpy as np\n",
    "from scipy.stats import pearsonr"
   ]
  },
  {
   "cell_type": "code",
   "execution_count": 2,
   "metadata": {},
   "outputs": [
    {
     "name": "stdout",
     "output_type": "stream",
     "text": [
      "   Country  Year  Life expectancy at birth (years)           GDP\n",
      "0    Chile  2000                              77.3  7.786093e+10\n",
      "1    Chile  2001                              77.3  7.097992e+10\n",
      "2    Chile  2002                              77.8  6.973681e+10\n",
      "3    Chile  2003                              77.9  7.564346e+10\n",
      "4    Chile  2004                              78.0  9.921039e+10\n",
      "5    Chile  2005                              78.4  1.229650e+11\n",
      "6    Chile  2006                              78.9  1.547880e+11\n",
      "7    Chile  2007                              78.9  1.736060e+11\n",
      "8    Chile  2008                              79.6  1.796380e+11\n",
      "9    Chile  2009                              79.3  1.723890e+11\n",
      "10   Chile  2010                              79.1  2.185380e+11\n",
      "11   Chile  2011                              79.8  2.522520e+11\n",
      "12   Chile  2012                              79.9  2.671220e+11\n",
      "13   Chile  2013                              80.1  2.783840e+11\n",
      "14   Chile  2014                              80.3  2.609900e+11\n",
      "15   Chile  2015                              80.5  2.425180e+11\n",
      "16   China  2000                              71.7  1.211350e+12\n",
      "17   China  2001                              72.2  1.339400e+12\n",
      "18   China  2002                              72.7  1.470550e+12\n",
      "19   China  2003                              73.1  1.660290e+12\n"
     ]
    }
   ],
   "source": [
    "# Loading and exploring the first 20 lines of data\n",
    "all_data = pd.read_csv(\"all_data.csv\")\n",
    "print(all_data.head(20))"
   ]
  },
  {
   "cell_type": "code",
   "execution_count": 3,
   "metadata": {},
   "outputs": [
    {
     "name": "stdout",
     "output_type": "stream",
     "text": [
      "  Country  Year  Life_expectancy           GDP\n",
      "0   Chile  2000             77.3  7.786093e+10\n",
      "1   Chile  2001             77.3  7.097992e+10\n",
      "2   Chile  2002             77.8  6.973681e+10\n",
      "3   Chile  2003             77.9  7.564346e+10\n",
      "4   Chile  2004             78.0  9.921039e+10\n"
     ]
    }
   ],
   "source": [
    "# saw that there was a column named 'Life expectancy at birth (years)', so I decided to rename it\n",
    "# in order to make this easier to work with\n",
    "all_data = all_data.rename(columns={'Life expectancy at birth (years)' : 'Life_expectancy'})\n",
    "print(all_data.head())"
   ]
  },
  {
   "cell_type": "code",
   "execution_count": 4,
   "metadata": {},
   "outputs": [
    {
     "data": {
      "text/plain": [
       "<function matplotlib.pyplot.clf()>"
      ]
     },
     "execution_count": 4,
     "metadata": {},
     "output_type": "execute_result"
    },
    {
     "data": {
      "image/png": "[encoded data removed]",
      "text/plain": [
       "<Figure size 864x432 with 1 Axes>"
      ]
     },
     "metadata": {},
     "output_type": "display_data"
    }
   ],
   "source": [
    "# This is just for myself to get a visual overview of the data. \n",
    "f, ax_country = plt.subplots(figsize=(12, 6))\n",
    "ax_country = sns.barplot(data = all_data, x='Year', y='Life_expectancy', hue='Country')\n",
    "plt.clf"
   ]
  },
  {
   "cell_type": "code",
   "execution_count": 5,
   "metadata": {},
   "outputs": [],
   "source": [
    "# spliting database up by country. This is to make country based visulations and calculations easier\n",
    "\n",
    "Chile = all_data[all_data.Country == 'Chile']\n",
    "China = all_data[all_data.Country == 'China']\n",
    "Germany = all_data[all_data.Country == 'Germany']\n",
    "Mexico = all_data[all_data.Country == 'Mexico']\n",
    "USA = all_data[all_data.Country == 'United States of America']\n",
    "Zimbabwe = all_data[all_data.Country == 'Zimbabwe']"
   ]
  },
  {
   "cell_type": "code",
   "execution_count": 6,
   "metadata": {
    "scrolled": false
   },
   "outputs": [
    {
     "data": {
      "text/plain": [
       "<Figure size 1728x432 with 0 Axes>"
      ]
     },
     "metadata": {},
     "output_type": "display_data"
    },
    {
     "data": {
      "text/plain": [
       "<Figure size 1728x432 with 0 Axes>"
      ]
     },
     "metadata": {},
     "output_type": "display_data"
    },
    {
     "data": {
      "text/plain": [
       "<Figure size 1728x432 with 0 Axes>"
      ]
     },
     "metadata": {},
     "output_type": "display_data"
    },
    {
     "data": {
      "text/plain": [
       "<Figure size 1728x432 with 0 Axes>"
      ]
     },
     "metadata": {},
     "output_type": "display_data"
    },
    {
     "data": {
      "text/plain": [
       "<Figure size 1728x432 with 0 Axes>"
      ]
     },
     "metadata": {},
     "output_type": "display_data"
    },
    {
     "data": {
      "text/plain": [
       "<Figure size 1728x432 with 0 Axes>"
      ]
     },
     "metadata": {},
     "output_type": "display_data"
    }
   ],
   "source": [
    "# so, to have a first look at life expectancy/year and GDP/year\n",
    "\n",
    "country_list = [Chile, China, Germany, Mexico, USA, Zimbabwe]\n",
    "labels_country = ['Chile', 'China', 'Germany', 'Mexico', 'USA', 'Zimbabwe']\n",
    "counter = 0\n",
    "for i in country_list:\n",
    "    plt.figure(figsize=(24,6))\n",
    "    ax = plt.subplot(1, 2, 1)\n",
    "    ax.set_title(labels_country[counter] + ': Life expectancy/year')\n",
    "    ax.set_xlabel('Time (Years)')\n",
    "    ax.set_ylabel('Life Expectancy')\n",
    "    ax.plot(i['Year'], i['Life_expectancy'], marker='o', color='blue')\n",
    "    \n",
    "    ax2 = plt.subplot(1, 2, 2)\n",
    "    ax2.set_title(labels_country[counter] + ': GDP/year')\n",
    "    ax2.set_xlabel('Time (Years)')\n",
    "    ax2.set_ylabel('Life Expectancy')\n",
    "    ax2.plot(i['Year'], i['GDP'], marker='o', color='red')\n",
    "    \n",
    "    plt.savefig('Lineplot_life_expectancy_year_{}.png'.format(labels_country[counter]))\n",
    "    plt.clf()\n",
    "    counter += 1\n",
    "    "
   ]
  },
  {
   "cell_type": "code",
   "execution_count": 7,
   "metadata": {
    "scrolled": false
   },
   "outputs": [
    {
     "data": {
      "text/plain": [
       "<Figure size 1728x432 with 0 Axes>"
      ]
     },
     "metadata": {},
     "output_type": "display_data"
    },
    {
     "data": {
      "text/plain": [
       "<Figure size 1728x432 with 0 Axes>"
      ]
     },
     "metadata": {},
     "output_type": "display_data"
    },
    {
     "data": {
      "text/plain": [
       "<Figure size 1728x432 with 0 Axes>"
      ]
     },
     "metadata": {},
     "output_type": "display_data"
    },
    {
     "data": {
      "text/plain": [
       "<Figure size 1728x432 with 0 Axes>"
      ]
     },
     "metadata": {},
     "output_type": "display_data"
    },
    {
     "data": {
      "text/plain": [
       "<Figure size 1728x432 with 0 Axes>"
      ]
     },
     "metadata": {},
     "output_type": "display_data"
    },
    {
     "data": {
      "text/plain": [
       "<Figure size 1728x432 with 0 Axes>"
      ]
     },
     "metadata": {},
     "output_type": "display_data"
    }
   ],
   "source": [
    "# On the above graphs it looks like there COULD be a correlation, but I want to make shure\n",
    "# First by making comparisons by country\n",
    "\n",
    "counter = 0\n",
    "for i in country_list:\n",
    "    plt.figure(figsize=(24,6))\n",
    "    ax = plt.subplot(1, 2, 1)\n",
    "    ax.set_title('Heatmap, life expectancy/gdp: ' + labels_country[counter])\n",
    "    ax.set_xlabel('Life Expectancy')\n",
    "    ax.set_ylabel('GDP')\n",
    "    ax = plt.hist2d(i['Life_expectancy'], i['GDP'])\n",
    "    plt.colorbar()\n",
    "    \n",
    "    ax2 = plt.subplot(1, 2, 2)\n",
    "    ax2.set_title('Scatterplot exploring relation with life expectancy/GDP in {}'.format(labels_country[counter]))\n",
    "    ax2.set_xlabel('Life Expectancy')\n",
    "    ax2.set_ylabel('GDP')\n",
    "    ax2 = plt.scatter(x = 'Life_expectancy', y = 'GDP', data = i)\n",
    "    \n",
    "    pic_name = 'Heat_scatter_correlation_life_gdp_{}.png'.format(labels_country[counter])\n",
    "    plt.savefig(pic_name)\n",
    "    counter += 1\n",
    "    plt.clf()"
   ]
  },
  {
   "cell_type": "code",
   "execution_count": 8,
   "metadata": {},
   "outputs": [
    {
     "data": {
      "image/png": "[encoded data removed]",
      "text/plain": [
       "<Figure size 864x432 with 1 Axes>"
      ]
     },
     "metadata": {},
     "output_type": "display_data"
    }
   ],
   "source": [
    "# We can see on the above visulations that there seems to be a strong positive correlation.\n",
    "# lets look at all data if we can see the bigger picture\n",
    "\n",
    "f, ax = plt.subplots(figsize=(12, 6))\n",
    "ax.set_title('Scatterplot examining all data')\n",
    "ax.set_xlabel('Life Expectancy')\n",
    "ax.set_ylabel('GDP')\n",
    "ax = plt.scatter(x = 'Life_expectancy', y='GDP', data=all_data)\n",
    "\n",
    "plt.savefig('scatterplot_big_picture')"
   ]
  },
  {
   "cell_type": "code",
   "execution_count": 9,
   "metadata": {
    "scrolled": true
   },
   "outputs": [
    {
     "name": "stdout",
     "output_type": "stream",
     "text": [
      "Correlation between life expectancy and gdp in all countries is:  0.34320674844915605 \n",
      "\n",
      "\n",
      "Chile the correlation between Life Expectancy and GDP is:  0.9498766659254417 \n",
      "\n",
      "China the correlation between Life Expectancy and GDP is:  0.9085255408648357 \n",
      "\n",
      "Germany the correlation between Life Expectancy and GDP is:  0.932698898256127 \n",
      "\n",
      "Mexico the correlation between Life Expectancy and GDP is:  0.9322377167847082 \n",
      "\n",
      "USA the correlation between Life Expectancy and GDP is:  0.9817092382430257 \n",
      "\n",
      "Zimbabwe the correlation between Life Expectancy and GDP is:  0.9661998955858777 \n",
      "\n"
     ]
    }
   ],
   "source": [
    "# on the above plot we see that gdp values can range between aprox 0.2 to 1.75 and still maintain a life expectancy\n",
    "# of 80 years. This means (looking att the graphs by country above) that an increase in gdp is a result from\n",
    "# life conditions improving due to other means. \n",
    "\n",
    "# it could be that when people have better conditions they worry less about survival. and are less inclined to hoard money.\n",
    "# And when they spend more, gdp increases.\n",
    "\n",
    "# And since better conditions means less worry of survival (food), and people being more likely to spend on other things.\n",
    "# Then more non-food related stores would get increased revenue.\n",
    "\n",
    "# Since non-food related stores would get increased revenue\n",
    "# This could be trackable by exploring the increase in revenue from clothing stores, and other non-food related purchases.\n",
    "\n",
    "\n",
    "# But for the sake of being shure, im going to explore correlations in numbers\n",
    "\n",
    "correlation, p = pearsonr(all_data['Life_expectancy'], all_data['GDP'])\n",
    "print(\"Correlation between life expectancy and gdp in all countries is: \", correlation, '\\n\\n')\n",
    "\n",
    "counter = 0\n",
    "\n",
    "for i in country_list:\n",
    "    correlation, p = pearsonr(i['Life_expectancy'], i['GDP'])\n",
    "    \n",
    "    print(labels_country[counter] + \" the correlation between Life Expectancy and GDP is: \", correlation, \"\\n\")\n",
    "    \n",
    "    counter += 1"
   ]
  },
  {
   "cell_type": "code",
   "execution_count": 10,
   "metadata": {},
   "outputs": [],
   "source": [
    "# As we can see above. If we take this on a country by country basis, it will look like there is a strong\n",
    "# linear correlation between gdp and life expectancy.\n",
    "\n",
    "# But when we look at the bigger picture it is quite clear that gdp and life expectancy is not correlated\n",
    "# Therefor life expectancy is most likely correlated with other factors that can increase gdp"
   ]
  }
 ],
 "metadata": {
  "kernelspec": {
   "display_name": "Python 3",
   "language": "python",
   "name": "python3"
  },
  "language_info": {
   "codemirror_mode": {
    "name": "ipython",
    "version": 3
   },
   "file_extension": ".py",
   "mimetype": "text/x-python",
   "name": "python",
   "nbconvert_exporter": "python",
   "pygments_lexer": "ipython3",
   "version": "3.6.5"
  }
 },
 "nbformat": 4,
 "nbformat_minor": 4
}
